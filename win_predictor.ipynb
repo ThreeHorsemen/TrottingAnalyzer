{
 "cells": [
  {
   "cell_type": "code",
   "execution_count": 1,
   "metadata": {},
   "outputs": [],
   "source": [
    "import pandas as pd\n",
    "import numpy as np\n",
    "import sklearn"
   ]
  },
  {
   "cell_type": "code",
   "execution_count": 2,
   "metadata": {},
   "outputs": [
    {
     "name": "stdout",
     "output_type": "stream",
     "text": [
      "        Name FrontShoes  RearShoes  AmericanStyleCart           CoachName  \\\n",
      "0   Loikkaus  HAS_SHOES  HAS_SHOES              False       Henna Latvala   \n",
      "1  R.R. Samu  HAS_SHOES  HAS_SHOES              False         Erkki Jämsä   \n",
      "2   Ekopetus  HAS_SHOES  HAS_SHOES              False        Antti Isomaa   \n",
      "3     Huuger  HAS_SHOES  HAS_SHOES              False      Satu Siikamäki   \n",
      "4     Wauhti  HAS_SHOES  HAS_SHOES              False  Veli-Erkki Paavola   \n",
      "\n",
      "           DriverName  Distance  StartTrack        Sire      StartTime  \\\n",
      "0      Hannu Hietanen      2100           1      Apassi  1514823300000   \n",
      "1          Mika Forss      2100           2  Suikun Ero  1514823300000   \n",
      "2       Ville Pohjola      2100           3    A.T. Eko  1514823300000   \n",
      "3         Niko Jokela      2100           4     Viesker  1514823300000   \n",
      "4  Veli-Erkki Paavola      2100           5    Valtraus  1514823300000   \n",
      "\n",
      "   StartType  Day  Month  Year  Winner   Odds  \n",
      "0  CAR_START    1      1  2018   False   7.85  \n",
      "1  CAR_START    1      1  2018   False   3.88  \n",
      "2  CAR_START    1      1  2018   False  28.20  \n",
      "3  CAR_START    1      1  2018   False   8.21  \n",
      "4  CAR_START    1      1  2018   False   2.45  \n"
     ]
    }
   ],
   "source": [
    "data = pd.read_csv(\"data.csv\")\n",
    "print(data.head())"
   ]
  },
  {
   "cell_type": "code",
   "execution_count": 3,
   "metadata": {},
   "outputs": [],
   "source": [
    "data.Winner = data.Winner.astype(int)\n",
    "data.AmericanStyleCart = data.AmericanStyleCart.astype(int)\n",
    "data.FrontShoes = data.FrontShoes.replace(to_replace=['NO_SHOES', 'HAS_SHOES', 'UNKNOWN'], value=[0, 1, -1])\n",
    "data.RearShoes = data.RearShoes.replace(to_replace=['NO_SHOES', 'HAS_SHOES', 'UNKNOWN'], value=[0, 1, -1])\n",
    "data.StartType = data.StartType.replace(to_replace=['CAR_START', 'VOLT_START'], value=[0, 1])\n"
   ]
  },
  {
   "cell_type": "code",
   "execution_count": 4,
   "metadata": {},
   "outputs": [],
   "source": [
    "X = data[['FrontShoes','RearShoes', 'AmericanStyleCart',  'Distance',  'StartTrack', 'Month', 'StartType', 'Odds']]\n",
    "y = data.Winner"
   ]
  },
  {
   "cell_type": "code",
   "execution_count": 5,
   "metadata": {},
   "outputs": [],
   "source": [
    "from sklearn.ensemble import RandomForestRegressor\n",
    "from sklearn.model_selection import train_test_split"
   ]
  },
  {
   "cell_type": "code",
   "execution_count": 6,
   "metadata": {},
   "outputs": [],
   "source": [
    "X_train, X_test, y_train, y_test = train_test_split(X, y, test_size=0.2, random_state=42)"
   ]
  },
  {
   "cell_type": "code",
   "execution_count": 7,
   "metadata": {},
   "outputs": [
    {
     "data": {
      "text/plain": [
       "RandomForestRegressor(bootstrap=True, criterion='mse', max_depth=4,\n",
       "                      max_features='auto', max_leaf_nodes=None,\n",
       "                      min_impurity_decrease=0.0, min_impurity_split=None,\n",
       "                      min_samples_leaf=1, min_samples_split=2,\n",
       "                      min_weight_fraction_leaf=0.0, n_estimators=100,\n",
       "                      n_jobs=None, oob_score=False, random_state=0, verbose=0,\n",
       "                      warm_start=False)"
      ]
     },
     "execution_count": 7,
     "metadata": {},
     "output_type": "execute_result"
    }
   ],
   "source": [
    "model = RandomForestRegressor(n_estimators=100, max_depth=4, random_state=0)\n",
    "model.fit(X_train, y_train)\n"
   ]
  },
  {
   "cell_type": "code",
   "execution_count": 8,
   "metadata": {},
   "outputs": [],
   "source": [
    "predictions = model.predict(X_test)"
   ]
  },
  {
   "cell_type": "code",
   "execution_count": 9,
   "metadata": {},
   "outputs": [
    {
     "name": "stdout",
     "output_type": "stream",
     "text": [
      "7436\n",
      "50007\n"
     ]
    }
   ],
   "source": [
    "x = 0\n",
    "for  i in range(len(predictions)):\n",
    "    if (predictions[i] > 0.2):\n",
    "        #print(X_test.iloc[i:])\n",
    "        x = x + 1\n",
    "\n",
    "print(x)\n",
    "print(len(predictions))"
   ]
  },
  {
   "cell_type": "code",
   "execution_count": null,
   "metadata": {},
   "outputs": [],
   "source": []
  }
 ],
 "metadata": {
  "kernelspec": {
   "display_name": "Python 3",
   "language": "python",
   "name": "python3"
  },
  "language_info": {
   "codemirror_mode": {
    "name": "ipython",
    "version": 3
   },
   "file_extension": ".py",
   "mimetype": "text/x-python",
   "name": "python",
   "nbconvert_exporter": "python",
   "pygments_lexer": "ipython3",
   "version": "3.7.4"
  }
 },
 "nbformat": 4,
 "nbformat_minor": 2
}
